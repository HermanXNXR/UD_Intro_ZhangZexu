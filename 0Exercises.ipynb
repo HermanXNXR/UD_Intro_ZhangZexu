{
 "cells": [
  {
   "cell_type": "code",
   "execution_count": 30,
   "id": "820674ab",
   "metadata": {},
   "outputs": [
    {
     "name": "stdout",
     "output_type": "stream",
     "text": [
      "Introduction of Programming\n"
     ]
    }
   ],
   "source": [
    "#Exercise00\n",
    "print (\"Introduction of Programming\")"
   ]
  },
  {
   "cell_type": "code",
   "execution_count": 125,
   "id": "97349d7b",
   "metadata": {},
   "outputs": [
    {
     "name": "stdout",
     "output_type": "stream",
     "text": [
      "I am ZexuZhang,23 years old and my email is ucbvz02@ucl.ac.uk\n"
     ]
    }
   ],
   "source": [
    "#Exercise02\n",
    "name = \"ZexuZhang\"\n",
    "email = \"ucbvz02@ucl.ac.uk\"\n",
    "age = 23\n",
    "\n",
    "print (\"I am %s,%d years old\" %(name, age),\"and my email is\",str(email))"
   ]
  },
  {
   "cell_type": "code",
   "execution_count": 119,
   "id": "4ceb5520",
   "metadata": {},
   "outputs": [
    {
     "name": "stdout",
     "output_type": "stream",
     "text": [
      "ZexuZhang\n",
      "ucbvz02@ucl.ac.uk\n",
      "23\n"
     ]
    }
   ],
   "source": [
    "#Exercise02\n",
    "name = \"ZexuZhang\"\n",
    "email = \"ucbvz02@ucl.ac.uk\"\n",
    "age = \"23\"\n",
    "print (name + '\\n' + email + '\\n' + age)"
   ]
  },
  {
   "cell_type": "code",
   "execution_count": 209,
   "id": "830d2250",
   "metadata": {},
   "outputs": [
    {
     "name": "stdout",
     "output_type": "stream",
     "text": [
      "0.0,\n",
      "3.63265306122449\n",
      "-0.42857142857142855\n",
      "59.95918367346939\n",
      "4337328\n",
      "3833759992447475122176\n"
     ]
    }
   ],
   "source": [
    "#Exercise03\n",
    "n1 = 0\n",
    "n2 = 178\n",
    "n3 = -21\n",
    "n4 = 2938\n",
    "n5 = 436\n",
    "n6 = 12\n",
    "\n",
    "print (str(n1/49) + ',\\n' + str(n2/49) + '\\n'+ str(n3/49) +'\\n'+ str(n4/49)+ '\\n'+ str(n5*9948)+'\\n'+str(n6**20))"
   ]
  },
  {
   "cell_type": "code",
   "execution_count": 163,
   "id": "c9f9c782",
   "metadata": {},
   "outputs": [
    {
     "name": "stdout",
     "output_type": "stream",
     "text": [
      "-0.8732972972139946\n",
      "0.8623188722876839\n",
      "3.141592653589793\n",
      "0.9999999999999999\n"
     ]
    }
   ],
   "source": [
    "#Exercise04\n",
    "from math import*\n",
    "\n",
    "print (sin(200))\n",
    "print (cos(100))\n",
    "print (radians(180))\n",
    "print (tan(radians(180)/4))"
   ]
  },
  {
   "cell_type": "code",
   "execution_count": 426,
   "id": "6acb43f4",
   "metadata": {},
   "outputs": [
    {
     "name": "stdout",
     "output_type": "stream",
     "text": [
      "Z\n",
      "e\n",
      "x\n",
      "u\n",
      "Z\n",
      "h\n",
      "a\n",
      "n\n",
      "g\n",
      "Z e x u Z h a n g\n"
     ]
    },
    {
     "ename": "IndexError",
     "evalue": "list index out of range",
     "output_type": "error",
     "traceback": [
      "\u001b[1;31m---------------------------------------------------------------------------\u001b[0m",
      "\u001b[1;31mIndexError\u001b[0m                                Traceback (most recent call last)",
      "Cell \u001b[1;32mIn[426], line 6\u001b[0m\n\u001b[0;32m      4\u001b[0m     \u001b[38;5;28mprint\u001b[39m(n[i])\n\u001b[0;32m      5\u001b[0m \u001b[38;5;28;01mfor\u001b[39;00m i \u001b[38;5;129;01min\u001b[39;00m \u001b[38;5;28mrange\u001b[39m(\u001b[38;5;241m0\u001b[39m,\u001b[38;5;241m9\u001b[39m):\n\u001b[1;32m----> 6\u001b[0m     \u001b[38;5;28mprint\u001b[39m(n[i],n[i\u001b[38;5;241m+\u001b[39m\u001b[38;5;241m1\u001b[39m],n[i\u001b[38;5;241m+\u001b[39m\u001b[38;5;241m2\u001b[39m],n[i\u001b[38;5;241m+\u001b[39m\u001b[38;5;241m3\u001b[39m],n[i\u001b[38;5;241m+\u001b[39m\u001b[38;5;241m4\u001b[39m],n[i\u001b[38;5;241m+\u001b[39m\u001b[38;5;241m5\u001b[39m],n[i\u001b[38;5;241m+\u001b[39m\u001b[38;5;241m6\u001b[39m],n[i\u001b[38;5;241m+\u001b[39m\u001b[38;5;241m7\u001b[39m],n[i\u001b[38;5;241m+\u001b[39m\u001b[38;5;241m8\u001b[39m])\n",
      "\u001b[1;31mIndexError\u001b[0m: list index out of range"
     ]
    }
   ],
   "source": [
    "#Exercise05\n",
    "n =['Z','e','x','u','Z','h','a','n','g']\n",
    "for i in range(0,9):\n",
    "    print(n[i])\n",
    "for i in range(0,9):\n",
    "    print(n[i],n[i+1],n[i+2],n[i+3],n[i+4],n[i+5],n[i+6],n[i+7],n[i+8])"
   ]
  },
  {
   "cell_type": "code",
   "execution_count": 248,
   "id": "0e35c791",
   "metadata": {},
   "outputs": [
    {
     "name": "stdout",
     "output_type": "stream",
     "text": [
      "positive\n"
     ]
    }
   ],
   "source": [
    "#Exercise06\n",
    "\n",
    "user_input = 0\n",
    "\n",
    "if user_input >= 0:\n",
    "    print(\"positive\")\n",
    "else:\n",
    "    print(\"negative\")"
   ]
  },
  {
   "cell_type": "code",
   "execution_count": 373,
   "id": "f2b4787e",
   "metadata": {},
   "outputs": [
    {
     "name": "stdout",
     "output_type": "stream",
     "text": [
      "5 \n",
      "sorry,please try again\n",
      "\n"
     ]
    }
   ],
   "source": [
    "#Exercise07\n",
    "import random\n",
    "\n",
    "user_input = 18\n",
    "dat=int(random.random()*19)+1\n",
    "if user_input==dat:\n",
    "    print(\"congratuations\")\n",
    "else:\n",
    "    print(str(dat)+' \\n' +\"sorry,please try again\" +'\\n')\n",
    "\n"
   ]
  },
  {
   "cell_type": "code",
   "execution_count": 395,
   "id": "8cfefe12",
   "metadata": {},
   "outputs": [
    {
     "name": "stdout",
     "output_type": "stream",
     "text": [
      "9 \n",
      "sorry,please try again\n",
      "0\n"
     ]
    }
   ],
   "source": [
    "#Exercise07\n",
    "import random\n",
    "\n",
    "user_input = 5\n",
    "dat=int(random.random()*19)+1\n",
    "    \n",
    "a=0\n",
    "b=1\n",
    "n=60\n",
    "\n",
    "while user_input==dat:\n",
    "    t = a\n",
    "    a = b\n",
    "    b = b+t\n",
    "    print(a)\n",
    "print(str(dat)+' \\n' +\"sorry,please try again\" +'\\n'+ str(a))\n",
    "\n"
   ]
  },
  {
   "cell_type": "code",
   "execution_count": 411,
   "id": "adad08fe",
   "metadata": {},
   "outputs": [
    {
     "name": "stdout",
     "output_type": "stream",
     "text": [
      "['Good', 'morning', 'everyone']\n"
     ]
    }
   ],
   "source": [
    "#Exercise08\n",
    "input_data = \"Good morning everyone\"\n",
    "list_data = input_data.split()\n",
    "print(list_data)"
   ]
  },
  {
   "cell_type": "code",
   "execution_count": 423,
   "id": "fd04d4c1",
   "metadata": {},
   "outputs": [
    {
     "name": "stdout",
     "output_type": "stream",
     "text": [
      "about\n",
      "architecture\n",
      "are\n",
      "everyone\n",
      "going\n",
      "good\n",
      "learn\n",
      "more\n",
      "morning\n",
      "to\n",
      "today\n",
      "we\n"
     ]
    }
   ],
   "source": [
    "#Exercise08\n",
    "\n",
    "a= \"good morning everyone today we are going to learn more about architecture\"\n",
    "b=a.split(' ')\n",
    "b.sort()\n",
    "for item in b:\n",
    "    print(item)"
   ]
  },
  {
   "cell_type": "code",
   "execution_count": 213,
   "id": "6a5c3892",
   "metadata": {},
   "outputs": [
    {
     "name": "stdout",
     "output_type": "stream",
     "text": [
      "   *\n",
      "  ***\n",
      " *****\n",
      "*******\n",
      "   |\n"
     ]
    }
   ],
   "source": [
    "    #Exercise09\n",
    "    for i in range(0,4):\n",
    "        for j in range(0,3-i):\n",
    "            print(' ',end='')\n",
    "        for j in range(0,i*2+1):\n",
    "            print('*',end='')\n",
    "        print()\n",
    "    for i in range(0,3):\n",
    "        print(' ',end='')\n",
    "    print('|')"
   ]
  },
  {
   "cell_type": "code",
   "execution_count": 428,
   "id": "a3b50124",
   "metadata": {},
   "outputs": [
    {
     "name": "stdout",
     "output_type": "stream",
     "text": [
      "30\n",
      "1\n",
      "1\n",
      "1\n",
      "2\n",
      "2\n",
      "3\n",
      "4\n",
      "5\n",
      "7\n",
      "9\n",
      "12\n",
      "16\n",
      "21\n",
      "28\n",
      "37\n",
      "49\n",
      "65\n",
      "86\n",
      "114\n",
      "151\n",
      "200\n",
      "265\n",
      "351\n",
      "465\n",
      "616\n",
      "816\n",
      "1081\n",
      "1432\n",
      "1897\n",
      "2513\n"
     ]
    }
   ],
   "source": [
    "#Exercise10\n",
    "P0=1\n",
    "P1=1\n",
    "P2=1\n",
    "n = int(input())\n",
    "if n > 3:\n",
    "    for i in range(n):\n",
    "        print(P0)\n",
    "        a = P0 + P1\n",
    "        P0 = P1\n",
    "        P1 = P2\n",
    "        P2 = a\n",
    "else:\n",
    "    for i in range(n):\n",
    "        print(P0)"
   ]
  },
  {
   "cell_type": "code",
   "execution_count": null,
   "id": "abd00dee",
   "metadata": {},
   "outputs": [],
   "source": []
  }
 ],
 "metadata": {
  "kernelspec": {
   "display_name": "Python 3 (ipykernel)",
   "language": "python",
   "name": "python3"
  },
  "language_info": {
   "codemirror_mode": {
    "name": "ipython",
    "version": 3
   },
   "file_extension": ".py",
   "mimetype": "text/x-python",
   "name": "python",
   "nbconvert_exporter": "python",
   "pygments_lexer": "ipython3",
   "version": "3.11.5"
  }
 },
 "nbformat": 4,
 "nbformat_minor": 5
}
