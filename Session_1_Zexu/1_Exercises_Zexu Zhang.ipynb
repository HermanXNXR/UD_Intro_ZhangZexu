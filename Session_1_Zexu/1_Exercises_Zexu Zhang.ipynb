{
 "cells": [
  {
   "cell_type": "markdown",
   "id": "38e188a5",
   "metadata": {},
   "source": [
    "# Exercise 00\n",
    "Write a piece of code that allocates a list of 20 integers and initializes each element by its index multiplied by 5. Print the result."
   ]
  },
  {
   "cell_type": "code",
   "execution_count": 3,
   "id": "9d0c15a5",
   "metadata": {},
   "outputs": [
    {
     "name": "stdout",
     "output_type": "stream",
     "text": [
      "[360, 90, 260, 85, 370, 285, 210, 65, 125, 400, 170, 215, 445, 485, 405, 430, 230, 190, 415, 460]\n"
     ]
    }
   ],
   "source": [
    "import random\n",
    "list=[random.randint(10,100)for i in range(20)]\n",
    "new_list=[i*5 for i in list]\n",
    "print(new_list)"
   ]
  },
  {
   "cell_type": "markdown",
   "id": "529d91ae",
   "metadata": {},
   "source": [
    "# Exercise 01\n",
    "Define a function that takes an integer as input, prints  all integers that it is divisable by, and returns the largest one."
   ]
  },
  {
   "cell_type": "code",
   "execution_count": 4,
   "id": "e6975a46",
   "metadata": {},
   "outputs": [
    {
     "name": "stdout",
     "output_type": "stream",
     "text": [
      "in put a number48\n",
      "1\n",
      "2\n",
      "3\n",
      "4\n",
      "6\n",
      "8\n",
      "12\n",
      "16\n",
      "24\n"
     ]
    },
    {
     "data": {
      "text/plain": [
       "24"
      ]
     },
     "execution_count": 4,
     "metadata": {},
     "output_type": "execute_result"
    }
   ],
   "source": [
    "a=int(input(\"in put a number\"))\n",
    "n=\"in put a number\"\n",
    "def maxDivb(n):\n",
    "    for i in range (1,n):\n",
    "        if n%i==0:\n",
    "            print(i)\n",
    "            largest_number=i\n",
    "    return(largest_number)\n",
    "maxDivb(a)"
   ]
  },
  {
   "cell_type": "markdown",
   "id": "cfbe30d4",
   "metadata": {},
   "source": [
    "# Exercise 02\n",
    "- create a dictionary with 6 keys and values of your choice\n",
    "- write a function that takes a dictionary and a value as input and returns whether the value occurs as a key in the dictionary\n",
    "- write a function that takes a dictionary as input, and returns the dictionary but the keys are swapped with their values (resolve the issue if a value occurs twice!)"
   ]
  },
  {
   "cell_type": "code",
   "execution_count": 6,
   "id": "bf51a513",
   "metadata": {
    "scrolled": false
   },
   "outputs": [
    {
     "name": "stdout",
     "output_type": "stream",
     "text": [
      "name XumingCai\n",
      "age 23\n",
      "gender male\n",
      "nationality China\n",
      "weight 66kg\n",
      "height 172\n"
     ]
    }
   ],
   "source": [
    "#write a function that takes a dictionary and a value as input and returns whether the value occurs as a key in the dictionary\n",
    "Dic={'name':'XumingCai','age':'23','gender':'male','nationality':'China','weight':'66kg','height':'172'}\n",
    "for x,y in Dic.items():\n",
    "    print(x,y)"
   ]
  },
  {
   "cell_type": "code",
   "execution_count": null,
   "id": "8d9566df",
   "metadata": {},
   "outputs": [],
   "source": [
    "#write a function that takes a dictionary as input, and returns the dictionary but the keys are swapped with their values (resolve the issue if a value occurs twice!)\n",
    "fridge = {\"cheese\":1, \"milk\":6, \"cola\":4, \"cream\":5, \"onion\":3, \"lemon\":2}\n",
    "def fridge_validation (fridge = {}):\n",
    "    if not isinstance(fridge, dict):\n",
    "        raise TypeError(\"require a valid dictionary to be submitted!\")\n",
    "    else:\n",
    "        return (fridge)\n",
    "validation = fridge_validation(fridge)\n",
    "print(validation)"
   ]
  },
  {
   "cell_type": "markdown",
   "id": "b4b4e426",
   "metadata": {},
   "source": [
    "# Exercise 03\n",
    "Define a function that creates a dictionary of the first n fibonacci numbers as values paired with their indices as keys. "
   ]
  },
  {
   "cell_type": "code",
   "execution_count": 11,
   "id": "91f52a26",
   "metadata": {},
   "outputs": [
    {
     "name": "stdout",
     "output_type": "stream",
     "text": [
      "5\n"
     ]
    },
    {
     "ename": "TypeError",
     "evalue": "'list' object is not callable",
     "output_type": "error",
     "traceback": [
      "\u001b[1;31m---------------------------------------------------------------------------\u001b[0m",
      "\u001b[1;31mTypeError\u001b[0m                                 Traceback (most recent call last)",
      "Input \u001b[1;32mIn [11]\u001b[0m, in \u001b[0;36m<cell line: 7>\u001b[1;34m()\u001b[0m\n\u001b[0;32m      5\u001b[0m     \u001b[38;5;28;01melse\u001b[39;00m:\n\u001b[0;32m      6\u001b[0m         \u001b[38;5;28;01mreturn\u001b[39;00m (fibo(x\u001b[38;5;241m-\u001b[39m\u001b[38;5;241m1\u001b[39m) \u001b[38;5;241m+\u001b[39mfibo (x\u001b[38;5;241m-\u001b[39m\u001b[38;5;241m2\u001b[39m))\n\u001b[1;32m----> 7\u001b[0m b\u001b[38;5;241m=\u001b[39m\u001b[38;5;28;43mlist\u001b[39;49m\u001b[43m(\u001b[49m\u001b[43mfibo\u001b[49m\u001b[43m(\u001b[49m\u001b[43mfo\u001b[49m\u001b[43m)\u001b[49m\u001b[43m \u001b[49m\u001b[38;5;28;43;01mfor\u001b[39;49;00m\u001b[43m \u001b[49m\u001b[43mfo\u001b[49m\u001b[43m \u001b[49m\u001b[38;5;129;43;01min\u001b[39;49;00m\u001b[43m \u001b[49m\u001b[38;5;28;43mrange\u001b[39;49m\u001b[43m(\u001b[49m\u001b[38;5;241;43m2\u001b[39;49m\u001b[43m,\u001b[49m\u001b[43m \u001b[49m\u001b[43mn\u001b[49m\u001b[43m)\u001b[49m\u001b[43m)\u001b[49m\n\u001b[0;32m      8\u001b[0m a\u001b[38;5;241m=\u001b[39m\u001b[38;5;28mlist\u001b[39m(\u001b[38;5;28mrange\u001b[39m(\u001b[38;5;241m1\u001b[39m, n))\n\u001b[0;32m      9\u001b[0m fd\u001b[38;5;241m=\u001b[39m\u001b[38;5;28mzip\u001b[39m(a,b)\n",
      "\u001b[1;31mTypeError\u001b[0m: 'list' object is not callable"
     ]
    }
   ],
   "source": [
    "n = int(input())\n",
    "def fibo(x):\n",
    "    if x <= 1:\n",
    "        return (x)\n",
    "    else:\n",
    "        return (fibo(x-1) +fibo (x-2))\n",
    "b=list(fibo(fo) for fo in range(2, n))\n",
    "a=list(range(1, n))\n",
    "fd=zip(a,b)\n",
    "print(dict(fd))"
   ]
  },
  {
   "cell_type": "code",
   "execution_count": null,
   "id": "06da7c83",
   "metadata": {},
   "outputs": [],
   "source": []
  }
 ],
 "metadata": {
  "kernelspec": {
   "display_name": "Python 3 (ipykernel)",
   "language": "python",
   "name": "python3"
  },
  "language_info": {
   "codemirror_mode": {
    "name": "ipython",
    "version": 3
   },
   "file_extension": ".py",
   "mimetype": "text/x-python",
   "name": "python",
   "nbconvert_exporter": "python",
   "pygments_lexer": "ipython3",
   "version": "3.9.12"
  }
 },
 "nbformat": 4,
 "nbformat_minor": 5
}
